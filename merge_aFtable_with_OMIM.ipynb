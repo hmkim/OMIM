{
 "cells": [
  {
   "cell_type": "markdown",
   "metadata": {},
   "source": [
    "# Merge table from OMIM + gnomAD result\n",
    "\n",
    "gnomAD로부터 계산한 variants 들을 하나의 파일로 합치며, OMIM 아이디를 기준으로 OMIM에서 제공하는 API를 활용하여 새로운 정보를 추가하는 코드입니다.\n",
    "\n",
    "https://api.omim.org/api/html"
   ]
  },
  {
   "cell_type": "code",
   "execution_count": 1,
   "metadata": {},
   "outputs": [],
   "source": [
    "in_xlsx_pattern = 'data/*.recode.picked.header.xlsx'"
   ]
  },
  {
   "cell_type": "code",
   "execution_count": 2,
   "metadata": {},
   "outputs": [],
   "source": [
    "import glob\n",
    "import pandas as pd"
   ]
  },
  {
   "cell_type": "code",
   "execution_count": 138,
   "metadata": {},
   "outputs": [],
   "source": [
    "infiles = glob.glob(in_xlsx_pattern)"
   ]
  },
  {
   "cell_type": "code",
   "execution_count": 139,
   "metadata": {},
   "outputs": [],
   "source": [
    "dfs=[]\n",
    "for infile in infiles:\n",
    "    df = pd.read_excel(infile)\n",
    "    dfs.append(df)"
   ]
  },
  {
   "cell_type": "code",
   "execution_count": 140,
   "metadata": {},
   "outputs": [],
   "source": [
    "result = pd.concat(dfs)"
   ]
  },
  {
   "cell_type": "code",
   "execution_count": 141,
   "metadata": {},
   "outputs": [
    {
     "data": {
      "text/plain": [
       "array([607542, 607840, 600163, 601094, 613113, 602421])"
      ]
     },
     "execution_count": 141,
     "metadata": {},
     "output_type": "execute_result"
    }
   ],
   "source": [
    "MIM_IDs= result['omim'].unique()\n",
    "MIM_IDs"
   ]
  },
  {
   "cell_type": "code",
   "execution_count": 142,
   "metadata": {},
   "outputs": [
    {
     "data": {
      "text/html": [
       "<div>\n",
       "<style scoped>\n",
       "    .dataframe tbody tr th:only-of-type {\n",
       "        vertical-align: middle;\n",
       "    }\n",
       "\n",
       "    .dataframe tbody tr th {\n",
       "        vertical-align: top;\n",
       "    }\n",
       "\n",
       "    .dataframe thead th {\n",
       "        text-align: right;\n",
       "    }\n",
       "</style>\n",
       "<table border=\"1\" class=\"dataframe\">\n",
       "  <thead>\n",
       "    <tr style=\"text-align: right;\">\n",
       "      <th></th>\n",
       "      <th>omim</th>\n",
       "      <th>CHROM</th>\n",
       "      <th>POS</th>\n",
       "      <th>ID</th>\n",
       "      <th>REF</th>\n",
       "      <th>ALT</th>\n",
       "      <th>AC</th>\n",
       "      <th>variant_portion</th>\n",
       "      <th>AF</th>\n",
       "      <th>동아시아인</th>\n",
       "      <th>한국인</th>\n",
       "      <th>일본인</th>\n",
       "      <th>한일 외 동아시아인</th>\n",
       "      <th>아프리카인/아프리카계 아메리카인</th>\n",
       "      <th>라틴/혼혈아메리카인</th>\n",
       "      <th>핀란드외 유럽인</th>\n",
       "      <th>독,폴,러계 유대인</th>\n",
       "      <th>핀란드인</th>\n",
       "      <th>남아시아인</th>\n",
       "      <th>알수없음</th>\n",
       "    </tr>\n",
       "  </thead>\n",
       "  <tbody>\n",
       "    <tr>\n",
       "      <th>0</th>\n",
       "      <td>607542</td>\n",
       "      <td>11</td>\n",
       "      <td>2790111</td>\n",
       "      <td>rs17215500</td>\n",
       "      <td>C</td>\n",
       "      <td>T</td>\n",
       "      <td>26</td>\n",
       "      <td>0.333333</td>\n",
       "      <td>0.000103</td>\n",
       "      <td>NaN</td>\n",
       "      <td>NaN</td>\n",
       "      <td>NaN</td>\n",
       "      <td>NaN</td>\n",
       "      <td>0.000062</td>\n",
       "      <td>0.000087</td>\n",
       "      <td>0.000176</td>\n",
       "      <td>NaN</td>\n",
       "      <td>0.000046</td>\n",
       "      <td>0.000033</td>\n",
       "      <td>NaN</td>\n",
       "    </tr>\n",
       "    <tr>\n",
       "      <th>1</th>\n",
       "      <td>607542</td>\n",
       "      <td>11</td>\n",
       "      <td>2799239</td>\n",
       "      <td>rs120074190</td>\n",
       "      <td>G</td>\n",
       "      <td>A</td>\n",
       "      <td>12</td>\n",
       "      <td>0.153846</td>\n",
       "      <td>0.000048</td>\n",
       "      <td>NaN</td>\n",
       "      <td>NaN</td>\n",
       "      <td>NaN</td>\n",
       "      <td>NaN</td>\n",
       "      <td>NaN</td>\n",
       "      <td>NaN</td>\n",
       "      <td>NaN</td>\n",
       "      <td>NaN</td>\n",
       "      <td>0.000560</td>\n",
       "      <td>NaN</td>\n",
       "      <td>NaN</td>\n",
       "    </tr>\n",
       "    <tr>\n",
       "      <th>2</th>\n",
       "      <td>607542</td>\n",
       "      <td>11</td>\n",
       "      <td>2594193</td>\n",
       "      <td>rs120074187</td>\n",
       "      <td>G</td>\n",
       "      <td>A</td>\n",
       "      <td>12</td>\n",
       "      <td>0.153846</td>\n",
       "      <td>0.000048</td>\n",
       "      <td>NaN</td>\n",
       "      <td>NaN</td>\n",
       "      <td>NaN</td>\n",
       "      <td>NaN</td>\n",
       "      <td>NaN</td>\n",
       "      <td>0.000261</td>\n",
       "      <td>0.000018</td>\n",
       "      <td>0.0001</td>\n",
       "      <td>NaN</td>\n",
       "      <td>NaN</td>\n",
       "      <td>NaN</td>\n",
       "    </tr>\n",
       "    <tr>\n",
       "      <th>3</th>\n",
       "      <td>607542</td>\n",
       "      <td>11</td>\n",
       "      <td>2799220</td>\n",
       "      <td>rs17221854</td>\n",
       "      <td>C</td>\n",
       "      <td>T</td>\n",
       "      <td>4</td>\n",
       "      <td>0.051282</td>\n",
       "      <td>0.000016</td>\n",
       "      <td>NaN</td>\n",
       "      <td>NaN</td>\n",
       "      <td>NaN</td>\n",
       "      <td>NaN</td>\n",
       "      <td>NaN</td>\n",
       "      <td>NaN</td>\n",
       "      <td>0.000026</td>\n",
       "      <td>NaN</td>\n",
       "      <td>NaN</td>\n",
       "      <td>0.000033</td>\n",
       "      <td>NaN</td>\n",
       "    </tr>\n",
       "    <tr>\n",
       "      <th>4</th>\n",
       "      <td>607542</td>\n",
       "      <td>11</td>\n",
       "      <td>2594209</td>\n",
       "      <td>rs120074186</td>\n",
       "      <td>G</td>\n",
       "      <td>A</td>\n",
       "      <td>4</td>\n",
       "      <td>0.051282</td>\n",
       "      <td>0.000016</td>\n",
       "      <td>NaN</td>\n",
       "      <td>NaN</td>\n",
       "      <td>NaN</td>\n",
       "      <td>NaN</td>\n",
       "      <td>0.000062</td>\n",
       "      <td>0.000058</td>\n",
       "      <td>NaN</td>\n",
       "      <td>NaN</td>\n",
       "      <td>NaN</td>\n",
       "      <td>0.000033</td>\n",
       "      <td>NaN</td>\n",
       "    </tr>\n",
       "  </tbody>\n",
       "</table>\n",
       "</div>"
      ],
      "text/plain": [
       "     omim  CHROM      POS           ID REF ALT  AC  variant_portion        AF  \\\n",
       "0  607542     11  2790111   rs17215500   C   T  26         0.333333  0.000103   \n",
       "1  607542     11  2799239  rs120074190   G   A  12         0.153846  0.000048   \n",
       "2  607542     11  2594193  rs120074187   G   A  12         0.153846  0.000048   \n",
       "3  607542     11  2799220   rs17221854   C   T   4         0.051282  0.000016   \n",
       "4  607542     11  2594209  rs120074186   G   A   4         0.051282  0.000016   \n",
       "\n",
       "   동아시아인  한국인  일본인  한일 외 동아시아인  아프리카인/아프리카계 아메리카인  라틴/혼혈아메리카인  핀란드외 유럽인  \\\n",
       "0    NaN  NaN  NaN         NaN           0.000062    0.000087  0.000176   \n",
       "1    NaN  NaN  NaN         NaN                NaN         NaN       NaN   \n",
       "2    NaN  NaN  NaN         NaN                NaN    0.000261  0.000018   \n",
       "3    NaN  NaN  NaN         NaN                NaN         NaN  0.000026   \n",
       "4    NaN  NaN  NaN         NaN           0.000062    0.000058       NaN   \n",
       "\n",
       "   독,폴,러계 유대인      핀란드인     남아시아인  알수없음  \n",
       "0         NaN  0.000046  0.000033   NaN  \n",
       "1         NaN  0.000560       NaN   NaN  \n",
       "2      0.0001       NaN       NaN   NaN  \n",
       "3         NaN       NaN  0.000033   NaN  \n",
       "4         NaN       NaN  0.000033   NaN  "
      ]
     },
     "execution_count": 142,
     "metadata": {},
     "output_type": "execute_result"
    }
   ],
   "source": [
    "result.head()"
   ]
  },
  {
   "cell_type": "markdown",
   "metadata": {},
   "source": [
    "## OMIM 불러오기"
   ]
  },
  {
   "cell_type": "code",
   "execution_count": 8,
   "metadata": {},
   "outputs": [],
   "source": [
    "import os, json, requests, time\n",
    "from pandas.io.json import json_normalize\n",
    "import urllib\n",
    "import ast"
   ]
  },
  {
   "cell_type": "code",
   "execution_count": 11,
   "metadata": {},
   "outputs": [],
   "source": [
    "OMIM_URL        = 'http://api.omim.org/api/entry?'\n",
    "OMIM_APIKEY     = 'apiKey=[APIKEY_blahblah]&format=python&'\n",
    "# Constructing query string:\n",
    "URL = OMIM_URL\n",
    "\n",
    "for ID in MIM_IDs:\n",
    "    URL += 'mimNumber=%s&' % ID\n",
    "\n",
    "# Retrieving the following fields:\n",
    "URL += 'include=text&'\n",
    "URL += 'include=allelicVariantList&'\n",
    "URL += 'include=referenceList&'\n",
    "\n",
    "# Adding API key:\n",
    "URL += OMIM_APIKEY\n",
    "\n",
    "\n",
    "# Downloading page:\n",
    "page = requests.get(URL)\n",
    "\n",
    "# Reconstructingh dictionary from the returned string:\n",
    "OMIM_entry  = ast.literal_eval(page.content)\n"
   ]
  },
  {
   "cell_type": "code",
   "execution_count": 56,
   "metadata": {},
   "outputs": [
    {
     "data": {
      "text/plain": [
       "6"
      ]
     },
     "execution_count": 56,
     "metadata": {},
     "output_type": "execute_result"
    }
   ],
   "source": [
    "len(OMIM_entry['omim']['entryList'])"
   ]
  },
  {
   "cell_type": "code",
   "execution_count": 143,
   "metadata": {},
   "outputs": [],
   "source": [
    "OMIM_data={}\n",
    "# Parsing hash:\n",
    "for entry in OMIM_entry['omim']['entryList']:\n",
    "    # GEt OMIM ID:\n",
    "    ID = entry[\"entry\"][\"mimNumber\"]\n",
    "    OMIM_data[ID] = {}\n",
    "\n",
    "    # Get OMIM name:\n",
    "    OMIM_data[ID]['title'] = entry[\"entry\"][\"titles\"]['preferredTitle']\n",
    "\n",
    "    # Get OMIM text:\n",
    "    OMIM_data[ID]['text'] = {}\n",
    "    for fields in entry['entry'][\"textSectionList\"]:\n",
    "        OMIM_data[ID]['text'][fields['textSection']['textSectionTitle']] = fields['textSection']['textSectionContent']\n",
    "\n",
    "    # now we have to parse allelic variants:\n",
    "    # print stuff['omim']['entryList'][0]['entry']['allelicVariantList'][0]['allelicVariant'].keys()\n",
    "    # ['status', 'name', 'dbSnps', 'text', 'mutations', 'number', 'alternativeNames', 'clinvarAccessions']\n",
    "    \n",
    "\n",
    "    OMIM_data[ID]['variations'] = {}\n",
    "    for variations in entry['entry']['allelicVariantList']:\n",
    "        if 'dbSnps' in variations['allelicVariant']:\n",
    "            dbSnps_list = variations['allelicVariant']['dbSnps'].split(',')\n",
    "#            if ',' in variations['allelicVariant']['dbSnps']:\n",
    "#                print (dbSnps_list)\n",
    "#            else:\n",
    "#                print (dbSnps_list)\n",
    "            for dbSnps in dbSnps_list:\n",
    "                OMIM_data[ID]['variations'][dbSnps] = variations['allelicVariant']['mutations']\n",
    "            #rint(ID, variations['allelicVariant']['dbSnps'], OMIM_data[ID]['variations'][variations['allelicVariant']['dbSnps']])\n"
   ]
  },
  {
   "cell_type": "code",
   "execution_count": 144,
   "metadata": {},
   "outputs": [
    {
     "data": {
      "text/plain": [
       "[607840, 600163, 601094, 602421, 607542, 613113]"
      ]
     },
     "execution_count": 144,
     "metadata": {},
     "output_type": "execute_result"
    }
   ],
   "source": [
    "OMIM_data.keys()"
   ]
  },
  {
   "cell_type": "code",
   "execution_count": 145,
   "metadata": {},
   "outputs": [
    {
     "data": {
      "text/plain": [
       "'CFTR, ASP110HIS'"
      ]
     },
     "execution_count": 145,
     "metadata": {},
     "output_type": "execute_result"
    }
   ],
   "source": [
    "OMIM_data[602421][\"variations\"]['rs113993958']"
   ]
  },
  {
   "cell_type": "code",
   "execution_count": 146,
   "metadata": {},
   "outputs": [
    {
     "data": {
      "text/plain": [
       "'CFTR, 1-BP DEL, 1078T'"
      ]
     },
     "execution_count": 146,
     "metadata": {},
     "output_type": "execute_result"
    }
   ],
   "source": [
    "OMIM_data[602421][\"variations\"]['rs75528968']"
   ]
  },
  {
   "cell_type": "code",
   "execution_count": 147,
   "metadata": {},
   "outputs": [
    {
     "data": {
      "text/plain": [
       "'CFTR, 1-BP DEL, 1078T'"
      ]
     },
     "execution_count": 147,
     "metadata": {},
     "output_type": "execute_result"
    }
   ],
   "source": [
    "OMIM_data[602421][\"variations\"]['rs121908744']"
   ]
  },
  {
   "cell_type": "code",
   "execution_count": 148,
   "metadata": {},
   "outputs": [
    {
     "data": {
      "text/plain": [
       "'CYSTIC FIBROSIS TRANSMEMBRANE CONDUCTANCE REGULATOR; CFTR'"
      ]
     },
     "execution_count": 148,
     "metadata": {},
     "output_type": "execute_result"
    }
   ],
   "source": [
    "OMIM_data[602421][\"title\"]"
   ]
  },
  {
   "cell_type": "code",
   "execution_count": 149,
   "metadata": {},
   "outputs": [
    {
     "data": {
      "text/html": [
       "<div>\n",
       "<style scoped>\n",
       "    .dataframe tbody tr th:only-of-type {\n",
       "        vertical-align: middle;\n",
       "    }\n",
       "\n",
       "    .dataframe tbody tr th {\n",
       "        vertical-align: top;\n",
       "    }\n",
       "\n",
       "    .dataframe thead th {\n",
       "        text-align: right;\n",
       "    }\n",
       "</style>\n",
       "<table border=\"1\" class=\"dataframe\">\n",
       "  <thead>\n",
       "    <tr style=\"text-align: right;\">\n",
       "      <th></th>\n",
       "      <th>omim</th>\n",
       "      <th>ID</th>\n",
       "    </tr>\n",
       "  </thead>\n",
       "  <tbody>\n",
       "    <tr>\n",
       "      <th>0</th>\n",
       "      <td>607542</td>\n",
       "      <td>rs17215500</td>\n",
       "    </tr>\n",
       "    <tr>\n",
       "      <th>1</th>\n",
       "      <td>607542</td>\n",
       "      <td>rs120074190</td>\n",
       "    </tr>\n",
       "  </tbody>\n",
       "</table>\n",
       "</div>"
      ],
      "text/plain": [
       "     omim           ID\n",
       "0  607542   rs17215500\n",
       "1  607542  rs120074190"
      ]
     },
     "execution_count": 149,
     "metadata": {},
     "output_type": "execute_result"
    }
   ],
   "source": [
    "result[['omim','ID']].head(2)"
   ]
  },
  {
   "cell_type": "code",
   "execution_count": 150,
   "metadata": {},
   "outputs": [],
   "source": [
    "result['omim_mut'] = result.apply(lambda x : OMIM_data[x[\"omim\"]][\"variations\"][x[\"ID\"]] if x[\"ID\"] in OMIM_data[x[\"omim\"]][\"variations\"] else None, axis=1)"
   ]
  },
  {
   "cell_type": "code",
   "execution_count": 151,
   "metadata": {},
   "outputs": [],
   "source": [
    "result['omim_title'] = result.apply(lambda x : OMIM_data[x[\"omim\"]][\"title\"], axis=1)"
   ]
  },
  {
   "cell_type": "code",
   "execution_count": 152,
   "metadata": {},
   "outputs": [],
   "source": [
    "cols = result.columns.tolist()\n",
    "cols.insert(0, cols.pop())\n",
    "cols.insert(0, cols.pop())"
   ]
  },
  {
   "cell_type": "code",
   "execution_count": 153,
   "metadata": {},
   "outputs": [],
   "source": [
    "result = result.reindex(columns=cols)"
   ]
  },
  {
   "cell_type": "code",
   "execution_count": 154,
   "metadata": {},
   "outputs": [
    {
     "data": {
      "text/html": [
       "<div>\n",
       "<style scoped>\n",
       "    .dataframe tbody tr th:only-of-type {\n",
       "        vertical-align: middle;\n",
       "    }\n",
       "\n",
       "    .dataframe tbody tr th {\n",
       "        vertical-align: top;\n",
       "    }\n",
       "\n",
       "    .dataframe thead th {\n",
       "        text-align: right;\n",
       "    }\n",
       "</style>\n",
       "<table border=\"1\" class=\"dataframe\">\n",
       "  <thead>\n",
       "    <tr style=\"text-align: right;\">\n",
       "      <th></th>\n",
       "      <th>omim_mut</th>\n",
       "      <th>omim_title</th>\n",
       "      <th>omim</th>\n",
       "      <th>CHROM</th>\n",
       "      <th>POS</th>\n",
       "      <th>ID</th>\n",
       "      <th>REF</th>\n",
       "      <th>ALT</th>\n",
       "      <th>AC</th>\n",
       "      <th>variant_portion</th>\n",
       "      <th>...</th>\n",
       "      <th>한국인</th>\n",
       "      <th>일본인</th>\n",
       "      <th>한일 외 동아시아인</th>\n",
       "      <th>아프리카인/아프리카계 아메리카인</th>\n",
       "      <th>라틴/혼혈아메리카인</th>\n",
       "      <th>핀란드외 유럽인</th>\n",
       "      <th>독,폴,러계 유대인</th>\n",
       "      <th>핀란드인</th>\n",
       "      <th>남아시아인</th>\n",
       "      <th>알수없음</th>\n",
       "    </tr>\n",
       "  </thead>\n",
       "  <tbody>\n",
       "    <tr>\n",
       "      <th>0</th>\n",
       "      <td>KCNQ1, ARG518TER</td>\n",
       "      <td>POTASSIUM CHANNEL, VOLTAGE-GATED, KQT-LIKE SUB...</td>\n",
       "      <td>607542</td>\n",
       "      <td>11</td>\n",
       "      <td>2790111</td>\n",
       "      <td>rs17215500</td>\n",
       "      <td>C</td>\n",
       "      <td>T</td>\n",
       "      <td>26</td>\n",
       "      <td>0.333333</td>\n",
       "      <td>...</td>\n",
       "      <td>NaN</td>\n",
       "      <td>NaN</td>\n",
       "      <td>NaN</td>\n",
       "      <td>0.000062</td>\n",
       "      <td>0.000087</td>\n",
       "      <td>0.000176</td>\n",
       "      <td>NaN</td>\n",
       "      <td>0.000046</td>\n",
       "      <td>0.000033</td>\n",
       "      <td>NaN</td>\n",
       "    </tr>\n",
       "    <tr>\n",
       "      <th>1</th>\n",
       "      <td>KCNQ1, GLY589ASP</td>\n",
       "      <td>POTASSIUM CHANNEL, VOLTAGE-GATED, KQT-LIKE SUB...</td>\n",
       "      <td>607542</td>\n",
       "      <td>11</td>\n",
       "      <td>2799239</td>\n",
       "      <td>rs120074190</td>\n",
       "      <td>G</td>\n",
       "      <td>A</td>\n",
       "      <td>12</td>\n",
       "      <td>0.153846</td>\n",
       "      <td>...</td>\n",
       "      <td>NaN</td>\n",
       "      <td>NaN</td>\n",
       "      <td>NaN</td>\n",
       "      <td>NaN</td>\n",
       "      <td>NaN</td>\n",
       "      <td>NaN</td>\n",
       "      <td>NaN</td>\n",
       "      <td>0.000560</td>\n",
       "      <td>NaN</td>\n",
       "      <td>NaN</td>\n",
       "    </tr>\n",
       "    <tr>\n",
       "      <th>2</th>\n",
       "      <td>KCNQ1, ALA300THR</td>\n",
       "      <td>POTASSIUM CHANNEL, VOLTAGE-GATED, KQT-LIKE SUB...</td>\n",
       "      <td>607542</td>\n",
       "      <td>11</td>\n",
       "      <td>2594193</td>\n",
       "      <td>rs120074187</td>\n",
       "      <td>G</td>\n",
       "      <td>A</td>\n",
       "      <td>12</td>\n",
       "      <td>0.153846</td>\n",
       "      <td>...</td>\n",
       "      <td>NaN</td>\n",
       "      <td>NaN</td>\n",
       "      <td>NaN</td>\n",
       "      <td>NaN</td>\n",
       "      <td>0.000261</td>\n",
       "      <td>0.000018</td>\n",
       "      <td>0.0001</td>\n",
       "      <td>NaN</td>\n",
       "      <td>NaN</td>\n",
       "      <td>NaN</td>\n",
       "    </tr>\n",
       "    <tr>\n",
       "      <th>3</th>\n",
       "      <td>KCNQ1, ARG583CYS</td>\n",
       "      <td>POTASSIUM CHANNEL, VOLTAGE-GATED, KQT-LIKE SUB...</td>\n",
       "      <td>607542</td>\n",
       "      <td>11</td>\n",
       "      <td>2799220</td>\n",
       "      <td>rs17221854</td>\n",
       "      <td>C</td>\n",
       "      <td>T</td>\n",
       "      <td>4</td>\n",
       "      <td>0.051282</td>\n",
       "      <td>...</td>\n",
       "      <td>NaN</td>\n",
       "      <td>NaN</td>\n",
       "      <td>NaN</td>\n",
       "      <td>NaN</td>\n",
       "      <td>NaN</td>\n",
       "      <td>0.000026</td>\n",
       "      <td>NaN</td>\n",
       "      <td>NaN</td>\n",
       "      <td>0.000033</td>\n",
       "      <td>NaN</td>\n",
       "    </tr>\n",
       "    <tr>\n",
       "      <th>4</th>\n",
       "      <td>KCNQ1, TRP305SER</td>\n",
       "      <td>POTASSIUM CHANNEL, VOLTAGE-GATED, KQT-LIKE SUB...</td>\n",
       "      <td>607542</td>\n",
       "      <td>11</td>\n",
       "      <td>2594209</td>\n",
       "      <td>rs120074186</td>\n",
       "      <td>G</td>\n",
       "      <td>A</td>\n",
       "      <td>4</td>\n",
       "      <td>0.051282</td>\n",
       "      <td>...</td>\n",
       "      <td>NaN</td>\n",
       "      <td>NaN</td>\n",
       "      <td>NaN</td>\n",
       "      <td>0.000062</td>\n",
       "      <td>0.000058</td>\n",
       "      <td>NaN</td>\n",
       "      <td>NaN</td>\n",
       "      <td>NaN</td>\n",
       "      <td>0.000033</td>\n",
       "      <td>NaN</td>\n",
       "    </tr>\n",
       "  </tbody>\n",
       "</table>\n",
       "<p>5 rows × 22 columns</p>\n",
       "</div>"
      ],
      "text/plain": [
       "           omim_mut                                         omim_title  \\\n",
       "0  KCNQ1, ARG518TER  POTASSIUM CHANNEL, VOLTAGE-GATED, KQT-LIKE SUB...   \n",
       "1  KCNQ1, GLY589ASP  POTASSIUM CHANNEL, VOLTAGE-GATED, KQT-LIKE SUB...   \n",
       "2  KCNQ1, ALA300THR  POTASSIUM CHANNEL, VOLTAGE-GATED, KQT-LIKE SUB...   \n",
       "3  KCNQ1, ARG583CYS  POTASSIUM CHANNEL, VOLTAGE-GATED, KQT-LIKE SUB...   \n",
       "4  KCNQ1, TRP305SER  POTASSIUM CHANNEL, VOLTAGE-GATED, KQT-LIKE SUB...   \n",
       "\n",
       "     omim  CHROM      POS           ID REF ALT  AC  variant_portion  ...  한국인  \\\n",
       "0  607542     11  2790111   rs17215500   C   T  26         0.333333  ...  NaN   \n",
       "1  607542     11  2799239  rs120074190   G   A  12         0.153846  ...  NaN   \n",
       "2  607542     11  2594193  rs120074187   G   A  12         0.153846  ...  NaN   \n",
       "3  607542     11  2799220   rs17221854   C   T   4         0.051282  ...  NaN   \n",
       "4  607542     11  2594209  rs120074186   G   A   4         0.051282  ...  NaN   \n",
       "\n",
       "   일본인  한일 외 동아시아인  아프리카인/아프리카계 아메리카인  라틴/혼혈아메리카인  핀란드외 유럽인  독,폴,러계 유대인  \\\n",
       "0  NaN         NaN           0.000062    0.000087  0.000176         NaN   \n",
       "1  NaN         NaN                NaN         NaN       NaN         NaN   \n",
       "2  NaN         NaN                NaN    0.000261  0.000018      0.0001   \n",
       "3  NaN         NaN                NaN         NaN  0.000026         NaN   \n",
       "4  NaN         NaN           0.000062    0.000058       NaN         NaN   \n",
       "\n",
       "       핀란드인     남아시아인  알수없음  \n",
       "0  0.000046  0.000033   NaN  \n",
       "1  0.000560       NaN   NaN  \n",
       "2       NaN       NaN   NaN  \n",
       "3       NaN  0.000033   NaN  \n",
       "4       NaN  0.000033   NaN  \n",
       "\n",
       "[5 rows x 22 columns]"
      ]
     },
     "execution_count": 154,
     "metadata": {},
     "output_type": "execute_result"
    }
   ],
   "source": [
    "result.head()"
   ]
  },
  {
   "cell_type": "code",
   "execution_count": 155,
   "metadata": {},
   "outputs": [],
   "source": [
    "result.to_excel(\"omim_merged.xlsx\", index=False)"
   ]
  },
  {
   "cell_type": "code",
   "execution_count": null,
   "metadata": {},
   "outputs": [],
   "source": []
  }
 ],
 "metadata": {
  "kernelspec": {
   "display_name": "Python 3",
   "language": "python",
   "name": "python3"
  },
  "language_info": {
   "codemirror_mode": {
    "name": "ipython",
    "version": 3
   },
   "file_extension": ".py",
   "mimetype": "text/x-python",
   "name": "python",
   "nbconvert_exporter": "python",
   "pygments_lexer": "ipython3",
   "version": "3.7.3"
  }
 },
 "nbformat": 4,
 "nbformat_minor": 2
}
